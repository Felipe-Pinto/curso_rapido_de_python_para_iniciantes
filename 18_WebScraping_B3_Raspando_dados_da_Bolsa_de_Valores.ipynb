{
  "nbformat": 4,
  "nbformat_minor": 0,
  "metadata": {
    "colab": {
      "name": "18 - WebScraping B3 - Raspando dados da Bolsa de Valores",
      "provenance": [],
      "collapsed_sections": [],
      "authorship_tag": "ABX9TyMrQTyzXJikKmBIIpOIv6/w",
      "include_colab_link": true
    },
    "kernelspec": {
      "name": "python3",
      "display_name": "Python 3"
    }
  },
  "cells": [
    {
      "cell_type": "markdown",
      "metadata": {
        "id": "view-in-github",
        "colab_type": "text"
      },
      "source": [
        "<a href=\"https://colab.research.google.com/github/ricospeloacaso/curso_rapido_de_python_para_iniciantes/blob/master/18_WebScraping_B3_Raspando_dados_da_Bolsa_de_Valores.ipynb\" target=\"_parent\"><img src=\"https://colab.research.google.com/assets/colab-badge.svg\" alt=\"Open In Colab\"/></a>"
      ]
    },
    {
      "cell_type": "code",
      "metadata": {
        "id": "MaVSiURvOPAV",
        "colab_type": "code",
        "colab": {}
      },
      "source": [
        "import pandas as pd\n",
        "pd.set_option('display.min_rows', 50)\n",
        "pd.set_option('display.max_rows', 200)"
      ],
      "execution_count": 0,
      "outputs": []
    },
    {
      "cell_type": "code",
      "metadata": {
        "id": "jiy7NbsOy9BK",
        "colab_type": "code",
        "colab": {}
      },
      "source": [
        "def busca_carteira_teorica(indice):\n",
        "  url = 'http://bvmf.bmfbovespa.com.br/indices/ResumoCarteiraTeorica.aspx?Indice={}&idioma=pt-br'.format(indice.upper())\n",
        "  return pd.read_html(url, decimal=',', thousands='.', index_col='Código')[0][:-1]"
      ],
      "execution_count": 0,
      "outputs": []
    },
    {
      "cell_type": "code",
      "metadata": {
        "id": "K42aLc5TzGWT",
        "colab_type": "code",
        "colab": {}
      },
      "source": [
        "ibov = busca_carteira_teorica('ibov')"
      ],
      "execution_count": 0,
      "outputs": []
    },
    {
      "cell_type": "code",
      "metadata": {
        "id": "NiYUOq9W0LZk",
        "colab_type": "code",
        "colab": {}
      },
      "source": [
        "ibov.sort_values('Part. (%)', ascending=False)"
      ],
      "execution_count": 0,
      "outputs": []
    },
    {
      "cell_type": "code",
      "metadata": {
        "id": "vAoU62yh0MoD",
        "colab_type": "code",
        "colab": {}
      },
      "source": [
        "smll = busca_carteira_teorica('smll')"
      ],
      "execution_count": 0,
      "outputs": []
    },
    {
      "cell_type": "code",
      "metadata": {
        "id": "cPKaraM90oR7",
        "colab_type": "code",
        "colab": {}
      },
      "source": [
        "smll"
      ],
      "execution_count": 0,
      "outputs": []
    },
    {
      "cell_type": "code",
      "metadata": {
        "id": "iYwnGSri0o7z",
        "colab_type": "code",
        "colab": {}
      },
      "source": [
        "ibrx = busca_carteira_teorica('ibrx')"
      ],
      "execution_count": 0,
      "outputs": []
    },
    {
      "cell_type": "code",
      "metadata": {
        "id": "fGu2agQ10t-J",
        "colab_type": "code",
        "colab": {}
      },
      "source": [
        "ibrx"
      ],
      "execution_count": 0,
      "outputs": []
    },
    {
      "cell_type": "code",
      "metadata": {
        "id": "8NRx4BA40u1l",
        "colab_type": "code",
        "colab": {}
      },
      "source": [
        "pd.concat([ibov, ibrx], keys=['IBOV', 'IBRX'], axis=1)"
      ],
      "execution_count": 0,
      "outputs": []
    },
    {
      "cell_type": "code",
      "metadata": {
        "id": "J4BfTCXs04u7",
        "colab_type": "code",
        "colab": {}
      },
      "source": [
        ""
      ],
      "execution_count": 0,
      "outputs": []
    }
  ]
}