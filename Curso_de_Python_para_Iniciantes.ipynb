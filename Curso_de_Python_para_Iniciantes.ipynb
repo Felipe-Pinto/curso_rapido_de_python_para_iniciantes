{
  "nbformat": 4,
  "nbformat_minor": 0,
  "metadata": {
    "colab": {
      "name": "Curso de Python para Iniciantes.ipynb",
      "provenance": [],
      "authorship_tag": "ABX9TyNaj2LZ5RMrJXsIJWutZbVk",
      "include_colab_link": true
    },
    "kernelspec": {
      "name": "python3",
      "display_name": "Python 3"
    }
  },
  "cells": [
    {
      "cell_type": "markdown",
      "metadata": {
        "id": "view-in-github",
        "colab_type": "text"
      },
      "source": [
        "<a href=\"https://colab.research.google.com/github/ricospeloacaso/curso_rapido_de_python_para_iniciantes/blob/master/Curso_de_Python_para_Iniciantes.ipynb\" target=\"_parent\"><img src=\"https://colab.research.google.com/assets/colab-badge.svg\" alt=\"Open In Colab\"/></a>"
      ]
    },
    {
      "cell_type": "markdown",
      "metadata": {
        "id": "yrrP9PJGma_B",
        "colab_type": "text"
      },
      "source": [
        "###CURSO RÁPIDO DE PYTHON PARA INICIANTES COM GOOGLE COLAB\n"
      ]
    },
    {
      "cell_type": "markdown",
      "metadata": {
        "id": "B2ePv5S1mrhc",
        "colab_type": "text"
      },
      "source": [
        ">Aulas\n",
        "\n",
        "🎬 AULA 1: Google Colab, Strings, Operadores Matemáticos: https://youtu.be/7TLkf1l9wLg\n",
        "\n",
        "🎬 AULA 2: Variáveis, Listas e Tuplas: https://youtu.be/LRUNe_yS-dU\n",
        "\n",
        "🎬 AULA 3: Dicionários, Operadores Lógicos, IF / ELSE / ELIF: https://youtu.be/np7ic8HFo5o\n",
        "\n",
        "🎬 AULA 4:  FOR, WHILE e Funções: https://youtu.be/M-XmfQn1L1w\n",
        "\n",
        "🎬 AULA 5: BIBLIOTECAS: https://youtu.be/DbL2rotVrAw"
      ]
    },
    {
      "cell_type": "markdown",
      "metadata": {
        "id": "GlYYu_RQ9xIr",
        "colab_type": "text"
      },
      "source": [
        "###Olá Mundo"
      ]
    },
    {
      "cell_type": "markdown",
      "metadata": {
        "id": "SZZSM9_29zHO",
        "colab_type": "text"
      },
      "source": [
        ">Nosso primeiro comando em Python"
      ]
    },
    {
      "cell_type": "code",
      "metadata": {
        "id": "cJ5Idhcf9162",
        "colab_type": "code",
        "colab": {}
      },
      "source": [
        "print(\"Olá Mundo\")"
      ],
      "execution_count": 0,
      "outputs": []
    },
    {
      "cell_type": "markdown",
      "metadata": {
        "id": "J5UE-f5Q94tF",
        "colab_type": "text"
      },
      "source": [
        "###Strings"
      ]
    },
    {
      "cell_type": "markdown",
      "metadata": {
        "id": "vPWrwP0i95_J",
        "colab_type": "text"
      },
      "source": [
        ">Concatenação com operador ``+``"
      ]
    },
    {
      "cell_type": "code",
      "metadata": {
        "id": "3AucCGSQ9-CN",
        "colab_type": "code",
        "colab": {}
      },
      "source": [
        "print(\"Curso\" + \" de Python\")"
      ],
      "execution_count": 0,
      "outputs": []
    },
    {
      "cell_type": "markdown",
      "metadata": {
        "id": "KUZL7d0s-HWO",
        "colab_type": "text"
      },
      "source": [
        ">Substituindo valores com ``format()``"
      ]
    },
    {
      "cell_type": "code",
      "metadata": {
        "id": "QltL9Dve-Lld",
        "colab_type": "code",
        "colab": {}
      },
      "source": [
        "print(\"Aula {} do Curso de {}\".format(1, \"Python\"))"
      ],
      "execution_count": 0,
      "outputs": []
    },
    {
      "cell_type": "markdown",
      "metadata": {
        "id": "o9sn8owX-UBt",
        "colab_type": "text"
      },
      "source": [
        ">Transformando para minúsculas com ``lower()``"
      ]
    },
    {
      "cell_type": "code",
      "metadata": {
        "id": "Zqxc2rc3-Yhk",
        "colab_type": "code",
        "colab": {}
      },
      "source": [
        "print(\"Curso de Python para Iniciantes\".lower())"
      ],
      "execution_count": 0,
      "outputs": []
    },
    {
      "cell_type": "markdown",
      "metadata": {
        "id": "zJbO5NZn-f3l",
        "colab_type": "text"
      },
      "source": [
        ">Transformando para maiúsculas com ``upper``"
      ]
    },
    {
      "cell_type": "code",
      "metadata": {
        "id": "PVahkuHp-k6t",
        "colab_type": "code",
        "colab": {}
      },
      "source": [
        "print(\"Curso de Python para Iniciantes\".upper())"
      ],
      "execution_count": 0,
      "outputs": []
    },
    {
      "cell_type": "markdown",
      "metadata": {
        "id": "YU3TRNOK-oZ-",
        "colab_type": "text"
      },
      "source": [
        ">Removendo espaços em branco com ``strip()``"
      ]
    },
    {
      "cell_type": "code",
      "metadata": {
        "id": "O9G-wu7R-r-5",
        "colab_type": "code",
        "colab": {}
      },
      "source": [
        "print(\"     Curso de Python para Iniciantes   \".strip())"
      ],
      "execution_count": 0,
      "outputs": []
    },
    {
      "cell_type": "markdown",
      "metadata": {
        "id": "v1w8_rbx-1pQ",
        "colab_type": "text"
      },
      "source": [
        ">O tipo ``str``"
      ]
    },
    {
      "cell_type": "code",
      "metadata": {
        "id": "F2mWfFlr-3kF",
        "colab_type": "code",
        "colab": {}
      },
      "source": [
        "type(\"Curso de Python para Iniciantes\")"
      ],
      "execution_count": 0,
      "outputs": []
    },
    {
      "cell_type": "markdown",
      "metadata": {
        "id": "rRU7O3L2-6Xd",
        "colab_type": "text"
      },
      "source": [
        "###Lidando com números e Operadores Matemáticos"
      ]
    },
    {
      "cell_type": "markdown",
      "metadata": {
        "id": "NyJj5Qg9-_u1",
        "colab_type": "text"
      },
      "source": [
        ">Tipos Numéricos"
      ]
    },
    {
      "cell_type": "code",
      "metadata": {
        "id": "c02YBn3w_B_N",
        "colab_type": "code",
        "colab": {}
      },
      "source": [
        "type(2)"
      ],
      "execution_count": 0,
      "outputs": []
    },
    {
      "cell_type": "code",
      "metadata": {
        "id": "-MK0N-yx_Ddl",
        "colab_type": "code",
        "colab": {}
      },
      "source": [
        "type(2.5)"
      ],
      "execution_count": 0,
      "outputs": []
    },
    {
      "cell_type": "markdown",
      "metadata": {
        "id": "X00hZX13_IA9",
        "colab_type": "text"
      },
      "source": [
        ">Soma"
      ]
    },
    {
      "cell_type": "code",
      "metadata": {
        "id": "9pkCnuMv_JDt",
        "colab_type": "code",
        "colab": {}
      },
      "source": [
        "2 + 2"
      ],
      "execution_count": 0,
      "outputs": []
    },
    {
      "cell_type": "markdown",
      "metadata": {
        "id": "cXXLxBWM_LX1",
        "colab_type": "text"
      },
      "source": [
        ">Subtração"
      ]
    },
    {
      "cell_type": "code",
      "metadata": {
        "id": "7MNFeqTV_M2V",
        "colab_type": "code",
        "colab": {}
      },
      "source": [
        "10 - 7"
      ],
      "execution_count": 0,
      "outputs": []
    },
    {
      "cell_type": "markdown",
      "metadata": {
        "id": "Ck9PpdRs_O0I",
        "colab_type": "text"
      },
      "source": [
        ">Multiplicação"
      ]
    },
    {
      "cell_type": "code",
      "metadata": {
        "id": "zLoHF31r_QOF",
        "colab_type": "code",
        "colab": {}
      },
      "source": [
        "7*3"
      ],
      "execution_count": 0,
      "outputs": []
    },
    {
      "cell_type": "markdown",
      "metadata": {
        "id": "8M-v9pgl_Sv9",
        "colab_type": "text"
      },
      "source": [
        ">Exponenciação"
      ]
    },
    {
      "cell_type": "code",
      "metadata": {
        "id": "TdoAQM3E_U8U",
        "colab_type": "code",
        "colab": {}
      },
      "source": [
        "5 ** 2"
      ],
      "execution_count": 0,
      "outputs": []
    },
    {
      "cell_type": "markdown",
      "metadata": {
        "id": "AOUU04eD_XsA",
        "colab_type": "text"
      },
      "source": [
        ">Divisão"
      ]
    },
    {
      "cell_type": "code",
      "metadata": {
        "id": "P2AqeLsr_ZLk",
        "colab_type": "code",
        "colab": {}
      },
      "source": [
        "5 / 2"
      ],
      "execution_count": 0,
      "outputs": []
    },
    {
      "cell_type": "code",
      "metadata": {
        "id": "wn6gzB1b_cH8",
        "colab_type": "code",
        "colab": {}
      },
      "source": [
        "type(5/2)"
      ],
      "execution_count": 0,
      "outputs": []
    },
    {
      "cell_type": "markdown",
      "metadata": {
        "id": "GsEi_Peh_lv9",
        "colab_type": "text"
      },
      "source": [
        ">>Divisão inteira"
      ]
    },
    {
      "cell_type": "code",
      "metadata": {
        "id": "daSYNb9A_n4d",
        "colab_type": "code",
        "colab": {}
      },
      "source": [
        "5 // 2"
      ],
      "execution_count": 0,
      "outputs": []
    },
    {
      "cell_type": "markdown",
      "metadata": {
        "id": "C7WfdiDT_qHk",
        "colab_type": "text"
      },
      "source": [
        ">>Resto do divisão"
      ]
    },
    {
      "cell_type": "code",
      "metadata": {
        "id": "Jk7a32fn_rgE",
        "colab_type": "code",
        "colab": {}
      },
      "source": [
        "5 % 2"
      ],
      "execution_count": 0,
      "outputs": []
    },
    {
      "cell_type": "markdown",
      "metadata": {
        "id": "6bBVKp6Z_vAN",
        "colab_type": "text"
      },
      "source": [
        ">Expressões"
      ]
    },
    {
      "cell_type": "code",
      "metadata": {
        "id": "1fG8eFQZ_xic",
        "colab_type": "code",
        "colab": {}
      },
      "source": [
        "10 - 5 + 20 -4"
      ],
      "execution_count": 0,
      "outputs": []
    },
    {
      "cell_type": "code",
      "metadata": {
        "id": "td5vr4RH_zpT",
        "colab_type": "code",
        "colab": {}
      },
      "source": [
        "((2+3)*(4-2)) ** 2"
      ],
      "execution_count": 0,
      "outputs": []
    },
    {
      "cell_type": "markdown",
      "metadata": {
        "id": "Jgv-JTLG_6X2",
        "colab_type": "text"
      },
      "source": [
        "###Variáveis"
      ]
    },
    {
      "cell_type": "markdown",
      "metadata": {
        "id": "GoqpKapA_7-V",
        "colab_type": "text"
      },
      "source": [
        ">Variáveis de texto"
      ]
    },
    {
      "cell_type": "code",
      "metadata": {
        "id": "KSU1ktEc_94j",
        "colab_type": "code",
        "colab": {}
      },
      "source": [
        "texto = \"Curso de Python para Iniciantes\""
      ],
      "execution_count": 0,
      "outputs": []
    },
    {
      "cell_type": "code",
      "metadata": {
        "id": "XeqDGfWOAAs0",
        "colab_type": "code",
        "colab": {}
      },
      "source": [
        "texto"
      ],
      "execution_count": 0,
      "outputs": []
    },
    {
      "cell_type": "code",
      "metadata": {
        "id": "1MxQhHOGACsE",
        "colab_type": "code",
        "colab": {}
      },
      "source": [
        "texto = texto + \" - Aula 02\"\n",
        "texto"
      ],
      "execution_count": 0,
      "outputs": []
    },
    {
      "cell_type": "markdown",
      "metadata": {
        "id": "f4zx07haAKre",
        "colab_type": "text"
      },
      "source": [
        ">Variáveis numéricas"
      ]
    },
    {
      "cell_type": "code",
      "metadata": {
        "id": "GEXW2NUDAN6s",
        "colab_type": "code",
        "colab": {}
      },
      "source": [
        "soma = 0\n",
        "soma"
      ],
      "execution_count": 0,
      "outputs": []
    },
    {
      "cell_type": "markdown",
      "metadata": {
        "id": "f_Ikii_5AQ5A",
        "colab_type": "text"
      },
      "source": [
        ">>Incrementando / Decrementando"
      ]
    },
    {
      "cell_type": "code",
      "metadata": {
        "id": "JeIIp8A3AT98",
        "colab_type": "code",
        "colab": {}
      },
      "source": [
        "soma = soma + 1 \n",
        "soma"
      ],
      "execution_count": 0,
      "outputs": []
    },
    {
      "cell_type": "code",
      "metadata": {
        "id": "K-GDT7-oAV91",
        "colab_type": "code",
        "colab": {}
      },
      "source": [
        "soma += 1\n",
        "soma"
      ],
      "execution_count": 0,
      "outputs": []
    },
    {
      "cell_type": "code",
      "metadata": {
        "id": "ge8btTZRAZrU",
        "colab_type": "code",
        "colab": {}
      },
      "source": [
        "soma -= 1\n",
        "soma"
      ],
      "execution_count": 0,
      "outputs": []
    },
    {
      "cell_type": "code",
      "metadata": {
        "id": "779pbLCIAcdU",
        "colab_type": "code",
        "colab": {}
      },
      "source": [
        "soma = soma -1"
      ],
      "execution_count": 0,
      "outputs": []
    },
    {
      "cell_type": "code",
      "metadata": {
        "id": "x99HfCUmAgc8",
        "colab_type": "code",
        "colab": {}
      },
      "source": [
        "soma"
      ],
      "execution_count": 0,
      "outputs": []
    },
    {
      "cell_type": "markdown",
      "metadata": {
        "id": "yrEilVhIAkEE",
        "colab_type": "text"
      },
      "source": [
        "###Listas"
      ]
    },
    {
      "cell_type": "markdown",
      "metadata": {
        "id": "LAuUNA3fAlvt",
        "colab_type": "text"
      },
      "source": [
        ">Criando e selecionando Elementos"
      ]
    },
    {
      "cell_type": "code",
      "metadata": {
        "id": "ZGkOFitiAobD",
        "colab_type": "code",
        "colab": {}
      },
      "source": [
        "frutas = ['maça', 'banana', 'laranja']\n",
        "frutas"
      ],
      "execution_count": 0,
      "outputs": []
    },
    {
      "cell_type": "code",
      "metadata": {
        "id": "O0r8eXioAuV8",
        "colab_type": "code",
        "colab": {}
      },
      "source": [
        "frutas[2]"
      ],
      "execution_count": 0,
      "outputs": []
    },
    {
      "cell_type": "code",
      "metadata": {
        "id": "ORQEgzXcA03M",
        "colab_type": "code",
        "colab": {}
      },
      "source": [
        "numeros = [1,2,3,4,5]\n",
        "numeros"
      ],
      "execution_count": 0,
      "outputs": []
    },
    {
      "cell_type": "code",
      "metadata": {
        "id": "Xc0J87IIA4QE",
        "colab_type": "code",
        "colab": {}
      },
      "source": [
        "lista = ['a', 'b', 'c', frutas, numeros]\n",
        "lista"
      ],
      "execution_count": 0,
      "outputs": []
    },
    {
      "cell_type": "code",
      "metadata": {
        "id": "rqdbN8sDBCZt",
        "colab_type": "code",
        "colab": {}
      },
      "source": [
        "lista[3]"
      ],
      "execution_count": 0,
      "outputs": []
    },
    {
      "cell_type": "code",
      "metadata": {
        "id": "2VUIsz98BKTb",
        "colab_type": "code",
        "colab": {}
      },
      "source": [
        "lista[3][1]"
      ],
      "execution_count": 0,
      "outputs": []
    },
    {
      "cell_type": "code",
      "metadata": {
        "id": "oxihBkXkBOu0",
        "colab_type": "code",
        "colab": {}
      },
      "source": [
        "lista[:2]"
      ],
      "execution_count": 0,
      "outputs": []
    },
    {
      "cell_type": "code",
      "metadata": {
        "id": "8lwLUokjBTdU",
        "colab_type": "code",
        "colab": {}
      },
      "source": [
        "lista[2:]"
      ],
      "execution_count": 0,
      "outputs": []
    },
    {
      "cell_type": "code",
      "metadata": {
        "id": "j7Y4dCI_BU3c",
        "colab_type": "code",
        "colab": {}
      },
      "source": [
        "lista[2:4]"
      ],
      "execution_count": 0,
      "outputs": []
    },
    {
      "cell_type": "markdown",
      "metadata": {
        "id": "Wh508Z7bBbIj",
        "colab_type": "text"
      },
      "source": [
        ">Adicionando e removendo elementos"
      ]
    },
    {
      "cell_type": "code",
      "metadata": {
        "id": "mSf0_L2RBdy0",
        "colab_type": "code",
        "colab": {}
      },
      "source": [
        "frutas.append('goiaba')\n",
        "frutas"
      ],
      "execution_count": 0,
      "outputs": []
    },
    {
      "cell_type": "code",
      "metadata": {
        "id": "7Gos5rnfBizL",
        "colab_type": "code",
        "colab": {}
      },
      "source": [
        "frutas.pop()\n",
        "frutas"
      ],
      "execution_count": 0,
      "outputs": []
    },
    {
      "cell_type": "code",
      "metadata": {
        "id": "puaaebPSBpnt",
        "colab_type": "code",
        "colab": {}
      },
      "source": [
        "frutas.pop(0)\n",
        "frutas"
      ],
      "execution_count": 0,
      "outputs": []
    },
    {
      "cell_type": "markdown",
      "metadata": {
        "id": "Gizis5fyBvbc",
        "colab_type": "text"
      },
      "source": [
        ">Alterando Elementos"
      ]
    },
    {
      "cell_type": "code",
      "metadata": {
        "id": "h9Weq6KUByE7",
        "colab_type": "code",
        "colab": {}
      },
      "source": [
        "frutas[0] = 'pera'\n",
        "frutas"
      ],
      "execution_count": 0,
      "outputs": []
    },
    {
      "cell_type": "markdown",
      "metadata": {
        "id": "t9fLZ9SdB9jo",
        "colab_type": "text"
      },
      "source": [
        "###Tuplas"
      ]
    },
    {
      "cell_type": "code",
      "metadata": {
        "id": "LVDIMzBfB_RD",
        "colab_type": "code",
        "colab": {}
      },
      "source": [
        "marcas = 'gm', 'ford', 'fiat', 'vw'\n",
        "marcas"
      ],
      "execution_count": 0,
      "outputs": []
    },
    {
      "cell_type": "code",
      "metadata": {
        "id": "DkT11NHjCGqk",
        "colab_type": "code",
        "colab": {}
      },
      "source": [
        "marcas[2]"
      ],
      "execution_count": 0,
      "outputs": []
    },
    {
      "cell_type": "markdown",
      "metadata": {
        "id": "qs2D_55bCLDc",
        "colab_type": "text"
      },
      "source": [
        ">A diferença principal entre Listas e Tuplas é que os elementos de tuplas não podem ser alterados"
      ]
    },
    {
      "cell_type": "code",
      "metadata": {
        "id": "K0KifjDkCSC7",
        "colab_type": "code",
        "colab": {}
      },
      "source": [
        "marcas[0] = 'ferrari'"
      ],
      "execution_count": 0,
      "outputs": []
    },
    {
      "cell_type": "markdown",
      "metadata": {
        "id": "DI-stsduCXKV",
        "colab_type": "text"
      },
      "source": [
        "###Dicionários"
      ]
    },
    {
      "cell_type": "code",
      "metadata": {
        "id": "-XPOk5ZHCZDa",
        "colab_type": "code",
        "colab": {}
      },
      "source": [
        "notas = {'portugues':8, 'ingles':7.4, 'matematica':9}\n",
        "notas"
      ],
      "execution_count": 0,
      "outputs": []
    },
    {
      "cell_type": "code",
      "metadata": {
        "id": "VMXsliHcCip7",
        "colab_type": "code",
        "colab": {}
      },
      "source": [
        "pessoa = {'nome':'João', 'idade':25, 'profissão':'pintor'}\n",
        "pessoa"
      ],
      "execution_count": 0,
      "outputs": []
    },
    {
      "cell_type": "code",
      "metadata": {
        "id": "L58Xv9jjCsCr",
        "colab_type": "code",
        "colab": {}
      },
      "source": [
        "times = {1:'Flamengo', 2:'São Paulo', 3:'Grêmio'}\n",
        "times"
      ],
      "execution_count": 0,
      "outputs": []
    },
    {
      "cell_type": "markdown",
      "metadata": {
        "id": "NXf3Wq66C2L8",
        "colab_type": "text"
      },
      "source": [
        ">Selecionando Elementos"
      ]
    },
    {
      "cell_type": "code",
      "metadata": {
        "id": "6kz5mt9pC6_E",
        "colab_type": "code",
        "colab": {}
      },
      "source": [
        "notas['matematica']"
      ],
      "execution_count": 0,
      "outputs": []
    },
    {
      "cell_type": "code",
      "metadata": {
        "id": "VXWjz9LpC-97",
        "colab_type": "code",
        "colab": {}
      },
      "source": [
        "pessoa['nome']"
      ],
      "execution_count": 0,
      "outputs": []
    },
    {
      "cell_type": "code",
      "metadata": {
        "id": "WBR1WbzmDGj7",
        "colab_type": "code",
        "colab": {}
      },
      "source": [
        "times[3]"
      ],
      "execution_count": 0,
      "outputs": []
    },
    {
      "cell_type": "markdown",
      "metadata": {
        "id": "p06riWA5DQM7",
        "colab_type": "text"
      },
      "source": [
        ">Alterando elementos"
      ]
    },
    {
      "cell_type": "code",
      "metadata": {
        "id": "KwSyNxFWDR5S",
        "colab_type": "code",
        "colab": {}
      },
      "source": [
        "notas['matematica'] = 10\n",
        "notas"
      ],
      "execution_count": 0,
      "outputs": []
    },
    {
      "cell_type": "code",
      "metadata": {
        "id": "tKHtGjdKDWr-",
        "colab_type": "code",
        "colab": {}
      },
      "source": [
        "times[2] = \"Palmeiras\"\n",
        "times"
      ],
      "execution_count": 0,
      "outputs": []
    },
    {
      "cell_type": "code",
      "metadata": {
        "id": "lpJM1NKbDdPj",
        "colab_type": "code",
        "colab": {}
      },
      "source": [
        ""
      ],
      "execution_count": 0,
      "outputs": []
    },
    {
      "cell_type": "markdown",
      "metadata": {
        "id": "jHdaqgogDhGR",
        "colab_type": "text"
      },
      "source": [
        ">Adicionando Elementos"
      ]
    },
    {
      "cell_type": "code",
      "metadata": {
        "id": "oyFTe6fLDitR",
        "colab_type": "code",
        "colab": {}
      },
      "source": [
        "notas[\"geografia\"] = 7.1\n",
        "notas"
      ],
      "execution_count": 0,
      "outputs": []
    },
    {
      "cell_type": "code",
      "metadata": {
        "id": "8mSKtU1cDmqC",
        "colab_type": "code",
        "colab": {}
      },
      "source": [
        "times[85] = \"Vasco\"\n",
        "times"
      ],
      "execution_count": 0,
      "outputs": []
    },
    {
      "cell_type": "markdown",
      "metadata": {
        "id": "hXUy7Bb8DuFd",
        "colab_type": "text"
      },
      "source": [
        "###If /Else"
      ]
    },
    {
      "cell_type": "code",
      "metadata": {
        "id": "wZwFH-DeDwLz",
        "colab_type": "code",
        "colab": {}
      },
      "source": [
        "x = 1\n",
        "y = 5"
      ],
      "execution_count": 0,
      "outputs": []
    },
    {
      "cell_type": "markdown",
      "metadata": {
        "id": "XvRbB2X8D0rb",
        "colab_type": "text"
      },
      "source": [
        ">Operadores Lógicos"
      ]
    },
    {
      "cell_type": "code",
      "metadata": {
        "id": "Q8vqGOO8D3HL",
        "colab_type": "code",
        "colab": {}
      },
      "source": [
        "x == 1"
      ],
      "execution_count": 0,
      "outputs": []
    },
    {
      "cell_type": "code",
      "metadata": {
        "id": "kG4XR-uyD4Ei",
        "colab_type": "code",
        "colab": {}
      },
      "source": [
        "x == 2"
      ],
      "execution_count": 0,
      "outputs": []
    },
    {
      "cell_type": "code",
      "metadata": {
        "id": "OQ2RHwbeD5Oj",
        "colab_type": "code",
        "colab": {}
      },
      "source": [
        "x < 0"
      ],
      "execution_count": 0,
      "outputs": []
    },
    {
      "cell_type": "code",
      "metadata": {
        "id": "7IbOn9dPD6dK",
        "colab_type": "code",
        "colab": {}
      },
      "source": [
        "x >= 0"
      ],
      "execution_count": 0,
      "outputs": []
    },
    {
      "cell_type": "code",
      "metadata": {
        "id": "jqeFsRK3D8Ek",
        "colab_type": "code",
        "colab": {}
      },
      "source": [
        "x != 0"
      ],
      "execution_count": 0,
      "outputs": []
    },
    {
      "cell_type": "code",
      "metadata": {
        "id": "ByMURRoYD-Ui",
        "colab_type": "code",
        "colab": {}
      },
      "source": [
        "(x > 0) and (y < 2)"
      ],
      "execution_count": 0,
      "outputs": []
    },
    {
      "cell_type": "code",
      "metadata": {
        "id": "1FX3ho3yEDKS",
        "colab_type": "code",
        "colab": {}
      },
      "source": [
        "(x > 0) or (y < 2)"
      ],
      "execution_count": 0,
      "outputs": []
    },
    {
      "cell_type": "markdown",
      "metadata": {
        "id": "lWlD_ZbHEJGb",
        "colab_type": "text"
      },
      "source": [
        ">Identação Obrigatória"
      ]
    },
    {
      "cell_type": "code",
      "metadata": {
        "id": "BNEGm3snELSE",
        "colab_type": "code",
        "colab": {}
      },
      "source": [
        "x = 5\n",
        "if (x > 0):\n",
        "  print(\"x é maior que zero\") \n",
        "else:\n",
        "  print(\"x é menor ou igual a zero\")"
      ],
      "execution_count": 0,
      "outputs": []
    },
    {
      "cell_type": "code",
      "metadata": {
        "id": "e5eHXvY-EtSm",
        "colab_type": "code",
        "colab": {}
      },
      "source": [
        "x = -5\n",
        "if (x > 0):\n",
        "  print(\"x é maior que zero\") \n",
        "elif(x == 0):\n",
        "  print(\"x é zero\")\n",
        "else:\n",
        "  print(\"x é menor\")"
      ],
      "execution_count": 0,
      "outputs": []
    },
    {
      "cell_type": "markdown",
      "metadata": {
        "id": "FWgc9fYjIulT",
        "colab_type": "text"
      },
      "source": [
        "###FOR"
      ]
    },
    {
      "cell_type": "code",
      "metadata": {
        "id": "MihSEYyXIwAA",
        "colab_type": "code",
        "colab": {}
      },
      "source": [
        "contador = [0,1,2,3,4,5,6,7,8,9]\n",
        "contador"
      ],
      "execution_count": 0,
      "outputs": []
    },
    {
      "cell_type": "code",
      "metadata": {
        "id": "w4ey8TdyI0Yw",
        "colab_type": "code",
        "colab": {}
      },
      "source": [
        "for valor in contador:\n",
        "  print(valor)"
      ],
      "execution_count": 0,
      "outputs": []
    },
    {
      "cell_type": "code",
      "metadata": {
        "id": "uQluBdaHI4WA",
        "colab_type": "code",
        "colab": {}
      },
      "source": [
        "range?"
      ],
      "execution_count": 0,
      "outputs": []
    },
    {
      "cell_type": "code",
      "metadata": {
        "id": "PIBlnmC8I68o",
        "colab_type": "code",
        "colab": {}
      },
      "source": [
        "for valor in range(10):\n",
        "  print(valor)"
      ],
      "execution_count": 0,
      "outputs": []
    },
    {
      "cell_type": "code",
      "metadata": {
        "id": "tVxeupyDJCrw",
        "colab_type": "code",
        "colab": {}
      },
      "source": [
        "for i in range(4,18,2):\n",
        "  print(i)"
      ],
      "execution_count": 0,
      "outputs": []
    },
    {
      "cell_type": "code",
      "metadata": {
        "id": "rfg1_WAFJJ2I",
        "colab_type": "code",
        "colab": {}
      },
      "source": [
        "cidades = ['São Paulo', 'Brasília', 'Curitiba']\n",
        "cidades"
      ],
      "execution_count": 0,
      "outputs": []
    },
    {
      "cell_type": "code",
      "metadata": {
        "id": "0eSxVOAzJSpQ",
        "colab_type": "code",
        "colab": {}
      },
      "source": [
        "for cidade in cidades:\n",
        "  print(\"Já morei em \"+cidade)"
      ],
      "execution_count": 0,
      "outputs": []
    },
    {
      "cell_type": "code",
      "metadata": {
        "id": "TbB9UxQ3JYu4",
        "colab_type": "code",
        "colab": {}
      },
      "source": [
        "minha_lista = [1,2,3,'cachorro','gato','papagaio']\n",
        "minha_lista"
      ],
      "execution_count": 0,
      "outputs": []
    },
    {
      "cell_type": "code",
      "metadata": {
        "id": "T1MveG8WJgew",
        "colab_type": "code",
        "colab": {}
      },
      "source": [
        "for cada_item in minha_lista:\n",
        "  print(cada_item)"
      ],
      "execution_count": 0,
      "outputs": []
    },
    {
      "cell_type": "markdown",
      "metadata": {
        "id": "DvkM3LAuJnd_",
        "colab_type": "text"
      },
      "source": [
        "###WHILE"
      ]
    },
    {
      "cell_type": "code",
      "metadata": {
        "id": "0NB-FBN8Jo3X",
        "colab_type": "code",
        "colab": {}
      },
      "source": [
        "x = 0\n",
        "while x < 5:\n",
        "  print(x)\n",
        "  x = x + 1"
      ],
      "execution_count": 0,
      "outputs": []
    },
    {
      "cell_type": "markdown",
      "metadata": {
        "id": "IVkSdvvKJzOj",
        "colab_type": "text"
      },
      "source": [
        "###List Comprehensions"
      ]
    },
    {
      "cell_type": "code",
      "metadata": {
        "id": "CINdH-V_J3L_",
        "colab_type": "code",
        "colab": {}
      },
      "source": [
        "quadrados = []\n",
        "for numero in range(10):\n",
        "  quadrados.append(numero**2)\n",
        "\n",
        "quadrados"
      ],
      "execution_count": 0,
      "outputs": []
    },
    {
      "cell_type": "markdown",
      "metadata": {
        "id": "TK0QKYPaKDbZ",
        "colab_type": "text"
      },
      "source": [
        ">Uma maneira mais concisa de criar listas"
      ]
    },
    {
      "cell_type": "code",
      "metadata": {
        "id": "KcE-ActiKH-f",
        "colab_type": "code",
        "colab": {}
      },
      "source": [
        "quad = [x**2 for x in range(10)]\n",
        "quad"
      ],
      "execution_count": 0,
      "outputs": []
    },
    {
      "cell_type": "markdown",
      "metadata": {
        "id": "kfatEmzSKa9I",
        "colab_type": "text"
      },
      "source": [
        "###Funções"
      ]
    },
    {
      "cell_type": "markdown",
      "metadata": {
        "id": "gOajgTI3Kcp5",
        "colab_type": "text"
      },
      "source": [
        ">Função que não retorna valor"
      ]
    },
    {
      "cell_type": "code",
      "metadata": {
        "id": "uqrtCOGiKg8X",
        "colab_type": "code",
        "colab": {}
      },
      "source": [
        "def exibir_mensagem(parametro):\n",
        "  print(\"Mensagem >> \"+parametro)"
      ],
      "execution_count": 0,
      "outputs": []
    },
    {
      "cell_type": "code",
      "metadata": {
        "id": "rFj2mPRrKpUv",
        "colab_type": "code",
        "colab": {}
      },
      "source": [
        "exibir_mensagem('Olá!!!')"
      ],
      "execution_count": 0,
      "outputs": []
    },
    {
      "cell_type": "code",
      "metadata": {
        "id": "N6bgDPNbKsRg",
        "colab_type": "code",
        "colab": {}
      },
      "source": [
        "exibir_mensagem('Ola Mundo!')"
      ],
      "execution_count": 0,
      "outputs": []
    },
    {
      "cell_type": "code",
      "metadata": {
        "id": "ZD1jk5VXK2Km",
        "colab_type": "code",
        "colab": {}
      },
      "source": [
        "def exibir_dados(nome, idade):\n",
        "  print(\"Meu nome é {}\".format(nome))\n",
        "  print(\"Tenho {} anos.\".format(idade))"
      ],
      "execution_count": 0,
      "outputs": []
    },
    {
      "cell_type": "code",
      "metadata": {
        "id": "o1S8eVq9LEo_",
        "colab_type": "code",
        "colab": {}
      },
      "source": [
        "exibir_dados('Maria', 70)"
      ],
      "execution_count": 0,
      "outputs": []
    },
    {
      "cell_type": "code",
      "metadata": {
        "id": "F0q2-u_4LKUf",
        "colab_type": "code",
        "colab": {}
      },
      "source": [
        "exibir_dados('Paulo', 12)"
      ],
      "execution_count": 0,
      "outputs": []
    },
    {
      "cell_type": "code",
      "metadata": {
        "id": "o5RecLIuLNwn",
        "colab_type": "code",
        "colab": {}
      },
      "source": [
        ""
      ],
      "execution_count": 0,
      "outputs": []
    },
    {
      "cell_type": "markdown",
      "metadata": {
        "id": "Zb_MLJtcLPYn",
        "colab_type": "text"
      },
      "source": [
        ">Função que retorna valor"
      ]
    },
    {
      "cell_type": "code",
      "metadata": {
        "id": "CSesVFpxLRMv",
        "colab_type": "code",
        "colab": {}
      },
      "source": [
        "def elevar_ao_quadrado(numero):\n",
        "  return numero ** 2"
      ],
      "execution_count": 0,
      "outputs": []
    },
    {
      "cell_type": "code",
      "metadata": {
        "id": "BHaJecMNLY02",
        "colab_type": "code",
        "colab": {}
      },
      "source": [
        "elevar_ao_quadrado(2)"
      ],
      "execution_count": 0,
      "outputs": []
    },
    {
      "cell_type": "code",
      "metadata": {
        "id": "LsR8MI0lLaTn",
        "colab_type": "code",
        "colab": {}
      },
      "source": [
        "elevar_ao_quadrado(25)"
      ],
      "execution_count": 0,
      "outputs": []
    },
    {
      "cell_type": "code",
      "metadata": {
        "id": "rK-jcn3nkM6a",
        "colab_type": "code",
        "colab": {}
      },
      "source": [
        ""
      ],
      "execution_count": 0,
      "outputs": []
    },
    {
      "cell_type": "markdown",
      "metadata": {
        "id": "hW-SggJnkOMC",
        "colab_type": "text"
      },
      "source": [
        "###Bibliotecas"
      ]
    },
    {
      "cell_type": "markdown",
      "metadata": {
        "id": "PKQX8tRm0qWG",
        "colab_type": "text"
      },
      "source": [
        ">Já Instaladas no Ambiente (Google Colab)"
      ]
    },
    {
      "cell_type": "code",
      "metadata": {
        "id": "ySATJrK90ssw",
        "colab_type": "code",
        "colab": {}
      },
      "source": [
        "import numpy"
      ],
      "execution_count": 0,
      "outputs": []
    },
    {
      "cell_type": "code",
      "metadata": {
        "id": "FOXSJPTrSwU3",
        "colab_type": "code",
        "colab": {}
      },
      "source": [
        "numpy.ones(5)"
      ],
      "execution_count": 0,
      "outputs": []
    },
    {
      "cell_type": "code",
      "metadata": {
        "id": "EzkJY4eZSwY-",
        "colab_type": "code",
        "colab": {}
      },
      "source": [
        "import numpy as np"
      ],
      "execution_count": 0,
      "outputs": []
    },
    {
      "cell_type": "code",
      "metadata": {
        "id": "pr1yl2XcSwpL",
        "colab_type": "code",
        "colab": {}
      },
      "source": [
        "np.ones(5)"
      ],
      "execution_count": 0,
      "outputs": []
    },
    {
      "cell_type": "code",
      "metadata": {
        "id": "6INTSW0rSFpN",
        "colab_type": "code",
        "colab": {}
      },
      "source": [
        "from numpy import ones"
      ],
      "execution_count": 0,
      "outputs": []
    },
    {
      "cell_type": "code",
      "metadata": {
        "id": "Pgk_VZh3Sxo4",
        "colab_type": "code",
        "colab": {}
      },
      "source": [
        "ones(5)"
      ],
      "execution_count": 0,
      "outputs": []
    },
    {
      "cell_type": "markdown",
      "metadata": {
        "id": "l_FnT1ZhR5JC",
        "colab_type": "text"
      },
      "source": [
        ">Instalando Bibliotecas Externas"
      ]
    },
    {
      "cell_type": "code",
      "metadata": {
        "id": "UWrpADA7R_Yz",
        "colab_type": "code",
        "colab": {}
      },
      "source": [
        "!pip install yfinance"
      ],
      "execution_count": 0,
      "outputs": []
    },
    {
      "cell_type": "code",
      "metadata": {
        "id": "QzwZqtFWTuL-",
        "colab_type": "code",
        "colab": {}
      },
      "source": [
        "import yfinance as yf"
      ],
      "execution_count": 0,
      "outputs": []
    },
    {
      "cell_type": "code",
      "metadata": {
        "id": "xpby4tfvTx7X",
        "colab_type": "code",
        "colab": {}
      },
      "source": [
        "yf.download('^BVSP')"
      ],
      "execution_count": 0,
      "outputs": []
    },
    {
      "cell_type": "code",
      "metadata": {
        "id": "M65KaqCVT2zN",
        "colab_type": "code",
        "colab": {}
      },
      "source": [
        ""
      ],
      "execution_count": 0,
      "outputs": []
    }
  ]
}